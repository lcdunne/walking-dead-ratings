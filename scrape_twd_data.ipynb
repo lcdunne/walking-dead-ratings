{
 "cells": [
  {
   "cell_type": "markdown",
   "id": "a77a6cbc-587f-43ab-8a82-c2ce4f0ef5fd",
   "metadata": {},
   "source": [
    "# Scrape IMDb Ratings for The Walking Dead"
   ]
  },
  {
   "cell_type": "code",
   "execution_count": 1,
   "id": "589b3c7f-5a8e-46b8-918d-ffbc5d614bd1",
   "metadata": {},
   "outputs": [],
   "source": [
    "import re\n",
    "import requests\n",
    "import pandas as pd\n",
    "from bs4 import BeautifulSoup"
   ]
  },
  {
   "cell_type": "markdown",
   "id": "982bc247-4e85-4a91-8fc7-f820245a2c33",
   "metadata": {},
   "source": [
    "## Extract the unique seasons from the dropdown\n",
    "Find out how many seasons there are"
   ]
  },
  {
   "cell_type": "code",
   "execution_count": 2,
   "id": "7ae8bd8f-e96e-4868-8300-1b03e4f08c7a",
   "metadata": {},
   "outputs": [],
   "source": [
    "SAVE = False\n",
    "URL = 'https://www.imdb.com/title/tt1520211/episodes'"
   ]
  },
  {
   "cell_type": "code",
   "execution_count": 3,
   "id": "aabd2f25-1897-4a69-8fa4-fcd94c58a95b",
   "metadata": {},
   "outputs": [
    {
     "name": "stdout",
     "output_type": "stream",
     "text": [
      "[1, 2, 3, 4, 5, 6, 7, 8, 9, 10, 11]\n"
     ]
    }
   ],
   "source": [
    "response = requests.get(URL)\n",
    "soup = BeautifulSoup(response.text, 'html.parser')\n",
    "seasons = [int(s.text.strip()) for s in soup.find(\"select\",{\"id\":\"bySeason\"}).findAll('option')]\n",
    "print(seasons)"
   ]
  },
  {
   "cell_type": "markdown",
   "id": "b6d5303c-2476-41f0-8eb9-fd92b145376b",
   "metadata": {},
   "source": [
    "## Get ratings for each episode in each season"
   ]
  },
  {
   "cell_type": "code",
   "execution_count": 4,
   "id": "0e24fb30-d1ae-4028-8e11-253b99090ded",
   "metadata": {},
   "outputs": [],
   "source": [
    "def extract_episode_info(episode):\n",
    "    '''Extracts episode number, air date, title, rating, and total number of \n",
    "    votes from the episode HTML\n",
    "    '''\n",
    "    epinfo = episode.find('div', class_='info')    \n",
    "    number = int(epinfo.find(itemprop=\"episodeNumber\").get('content'))\n",
    "    title = epinfo.find('a', itemprop='name').text\n",
    "    \n",
    "    airdate = epinfo.find('div', class_='airdate')\n",
    "    if airdate is not None:\n",
    "        airdate = airdate.text.strip()\n",
    "    else:\n",
    "        airdate = 'TBA'    \n",
    "    \n",
    "    rating = epinfo.find('span', class_='ipl-rating-star__rating')\n",
    "    if rating is not None:\n",
    "        rating = float(rating.text)\n",
    "    \n",
    "    total_votes = epinfo.find('span', class_='ipl-rating-star__total-votes')    \n",
    "    if total_votes is not None:\n",
    "        total_votes = int(re.search('\\(([^)]+)', total_votes.text).group(1).replace(',', ''))\n",
    "\n",
    "    return {'episode': number, 'airdate': airdate, 'title': title, 'rating': rating, 'sample': total_votes}"
   ]
  },
  {
   "cell_type": "markdown",
   "id": "03c9e142-0af1-4bc5-b7ce-ba6a03856785",
   "metadata": {},
   "source": [
    "Loops over each season and stores all episode information in a pandas dataframe"
   ]
  },
  {
   "cell_type": "code",
   "execution_count": 5,
   "id": "aaaa198c-701a-4293-bbbc-ecfa745f23e0",
   "metadata": {},
   "outputs": [],
   "source": [
    "frames = []\n",
    "\n",
    "for season in seasons:\n",
    "    response = requests.get(f'{URL}?season={season}')\n",
    "    soup = BeautifulSoup(response.text, 'html.parser')\n",
    "    eplist = soup.find(\"div\", class_='list detail eplist') # get parent container of episode list\n",
    "    eplist = eplist.find_all('div', class_='list_item') # get list of episodes\n",
    "\n",
    "    episode_info = []\n",
    "    for ep in eplist:\n",
    "        epinfo = extract_episode_info(ep)\n",
    "        epinfo['season'] = season\n",
    "        episode_info.append( epinfo )\n",
    "    \n",
    "    frames.append( pd.DataFrame(episode_info) )\n",
    "\n",
    "df = pd.concat( frames ).sort_values(by=['season', 'episode'])\n",
    "df.insert(0, 'season', df.pop('season')) # move season to first column"
   ]
  },
  {
   "cell_type": "code",
   "execution_count": 6,
   "id": "0dd71fd8-5063-44e6-ae69-8df22793b046",
   "metadata": {},
   "outputs": [
    {
     "data": {
      "text/html": [
       "<div>\n",
       "<style scoped>\n",
       "    .dataframe tbody tr th:only-of-type {\n",
       "        vertical-align: middle;\n",
       "    }\n",
       "\n",
       "    .dataframe tbody tr th {\n",
       "        vertical-align: top;\n",
       "    }\n",
       "\n",
       "    .dataframe thead th {\n",
       "        text-align: right;\n",
       "    }\n",
       "</style>\n",
       "<table border=\"1\" class=\"dataframe\">\n",
       "  <thead>\n",
       "    <tr style=\"text-align: right;\">\n",
       "      <th></th>\n",
       "      <th>season</th>\n",
       "      <th>episode</th>\n",
       "      <th>airdate</th>\n",
       "      <th>title</th>\n",
       "      <th>rating</th>\n",
       "      <th>sample</th>\n",
       "    </tr>\n",
       "  </thead>\n",
       "  <tbody>\n",
       "    <tr>\n",
       "      <th>0</th>\n",
       "      <td>1</td>\n",
       "      <td>1</td>\n",
       "      <td>5 Nov. 2010</td>\n",
       "      <td>Days Gone Bye</td>\n",
       "      <td>9.2</td>\n",
       "      <td>24869.0</td>\n",
       "    </tr>\n",
       "    <tr>\n",
       "      <th>1</th>\n",
       "      <td>1</td>\n",
       "      <td>2</td>\n",
       "      <td>12 Nov. 2010</td>\n",
       "      <td>Guts</td>\n",
       "      <td>8.6</td>\n",
       "      <td>15699.0</td>\n",
       "    </tr>\n",
       "    <tr>\n",
       "      <th>2</th>\n",
       "      <td>1</td>\n",
       "      <td>3</td>\n",
       "      <td>19 Nov. 2010</td>\n",
       "      <td>Tell It to the Frogs</td>\n",
       "      <td>8.2</td>\n",
       "      <td>14385.0</td>\n",
       "    </tr>\n",
       "    <tr>\n",
       "      <th>3</th>\n",
       "      <td>1</td>\n",
       "      <td>4</td>\n",
       "      <td>26 Nov. 2010</td>\n",
       "      <td>Vatos</td>\n",
       "      <td>8.5</td>\n",
       "      <td>14065.0</td>\n",
       "    </tr>\n",
       "    <tr>\n",
       "      <th>4</th>\n",
       "      <td>1</td>\n",
       "      <td>5</td>\n",
       "      <td>3 Dec. 2010</td>\n",
       "      <td>Wildfire</td>\n",
       "      <td>8.1</td>\n",
       "      <td>13507.0</td>\n",
       "    </tr>\n",
       "    <tr>\n",
       "      <th>5</th>\n",
       "      <td>1</td>\n",
       "      <td>6</td>\n",
       "      <td>10 Dec. 2010</td>\n",
       "      <td>TS-19</td>\n",
       "      <td>8.6</td>\n",
       "      <td>14718.0</td>\n",
       "    </tr>\n",
       "    <tr>\n",
       "      <th>0</th>\n",
       "      <td>2</td>\n",
       "      <td>1</td>\n",
       "      <td>21 Oct. 2011</td>\n",
       "      <td>What Lies Ahead</td>\n",
       "      <td>8.5</td>\n",
       "      <td>13275.0</td>\n",
       "    </tr>\n",
       "    <tr>\n",
       "      <th>1</th>\n",
       "      <td>2</td>\n",
       "      <td>2</td>\n",
       "      <td>24 Oct. 2011</td>\n",
       "      <td>Bloodletting</td>\n",
       "      <td>7.9</td>\n",
       "      <td>12008.0</td>\n",
       "    </tr>\n",
       "    <tr>\n",
       "      <th>2</th>\n",
       "      <td>2</td>\n",
       "      <td>3</td>\n",
       "      <td>4 Nov. 2011</td>\n",
       "      <td>Save the Last One</td>\n",
       "      <td>8.3</td>\n",
       "      <td>12010.0</td>\n",
       "    </tr>\n",
       "    <tr>\n",
       "      <th>3</th>\n",
       "      <td>2</td>\n",
       "      <td>4</td>\n",
       "      <td>13 Nov. 2011</td>\n",
       "      <td>Cherokee Rose</td>\n",
       "      <td>7.5</td>\n",
       "      <td>11659.0</td>\n",
       "    </tr>\n",
       "  </tbody>\n",
       "</table>\n",
       "</div>"
      ],
      "text/plain": [
       "   season  episode       airdate                 title  rating   sample\n",
       "0       1        1   5 Nov. 2010         Days Gone Bye     9.2  24869.0\n",
       "1       1        2  12 Nov. 2010                  Guts     8.6  15699.0\n",
       "2       1        3  19 Nov. 2010  Tell It to the Frogs     8.2  14385.0\n",
       "3       1        4  26 Nov. 2010                 Vatos     8.5  14065.0\n",
       "4       1        5   3 Dec. 2010              Wildfire     8.1  13507.0\n",
       "5       1        6  10 Dec. 2010                 TS-19     8.6  14718.0\n",
       "0       2        1  21 Oct. 2011       What Lies Ahead     8.5  13275.0\n",
       "1       2        2  24 Oct. 2011          Bloodletting     7.9  12008.0\n",
       "2       2        3   4 Nov. 2011     Save the Last One     8.3  12010.0\n",
       "3       2        4  13 Nov. 2011         Cherokee Rose     7.5  11659.0"
      ]
     },
     "execution_count": 6,
     "metadata": {},
     "output_type": "execute_result"
    }
   ],
   "source": [
    "df.head(10)"
   ]
  },
  {
   "cell_type": "code",
   "execution_count": 7,
   "id": "d9d63c9d-61d2-43c0-9a19-2b2e2efa0bfc",
   "metadata": {},
   "outputs": [],
   "source": [
    "if SAVE:\n",
    "    df.to_csv('twd_episode_ratings.csv', index=False)"
   ]
  }
 ],
 "metadata": {
  "kernelspec": {
   "display_name": "Python 3 (ipykernel)",
   "language": "python",
   "name": "python3"
  },
  "language_info": {
   "codemirror_mode": {
    "name": "ipython",
    "version": 3
   },
   "file_extension": ".py",
   "mimetype": "text/x-python",
   "name": "python",
   "nbconvert_exporter": "python",
   "pygments_lexer": "ipython3",
   "version": "3.10.6"
  }
 },
 "nbformat": 4,
 "nbformat_minor": 5
}
